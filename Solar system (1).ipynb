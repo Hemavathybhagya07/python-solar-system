{
 "cells": [
  {
   "cell_type": "code",
   "execution_count": 1,
   "id": "0ce00971-b4cd-4356-88ff-67729beeb56f",
   "metadata": {},
   "outputs": [],
   "source": [
    "# solar system project in Graphical user interface \n",
    "#pip install turtle   #allow user to to create a shapes\n",
    "#pip install math     #us a math operator"
   ]
  },
  {
   "cell_type": "code",
   "execution_count": 2,
   "id": "faac4590-65f9-413c-835a-ffb248a77861",
   "metadata": {},
   "outputs": [],
   "source": [
    "import turtle\n",
    "import math\n",
    "from math import *\n"
   ]
  },
  {
   "cell_type": "code",
   "execution_count": 3,
   "id": "fbf59d85-b401-4b34-b4d3-a31cc3538003",
   "metadata": {},
   "outputs": [],
   "source": [
    "#creating the GUI screen\n",
    "screen = turtle.Screen()    #Screen() – creates a GUI Window.\n",
    "screen.tracer(50)        #Tracer() – This traces the path of the turtle visible"
   ]
  },
  {
   "cell_type": "code",
   "execution_count": 4,
   "id": "260a1cfe-5e7a-48e2-b339-432193123ed1",
   "metadata": {},
   "outputs": [],
   "source": [
    "#Create the Sun\n",
    "sun = turtle.Turtle()#turtle object for sun\n",
    "sun.shape('circle')#shape of sun\n",
    "sun.color('yellow')#color of sun"
   ]
  },
  {
   "cell_type": "code",
   "execution_count": 5,
   "id": "1415bf16-1d43-493b-ae73-2d028fe2fe9f",
   "metadata": {},
   "outputs": [],
   "source": [
    "#Creating the Planets:\n",
    "\n",
    "class Planet(turtle.Turtle):\n",
    "    def __init__(self,name,radius, color):   #initialize function\n",
    "        super().__init__(shape='circle')     #super() is to create a temperory object of the cls\n",
    "        self.name = name\n",
    "        self.radius = radius\n",
    "        self.c = color\n",
    "        self.color(self.c)\n",
    "        self.up()              # move the pen up\n",
    "        self.pd()              # pen down. This moves the turtle object to another\n",
    "        self.angle = 0         \n",
    "    def move(self):\n",
    "        x = self.radius*cos(self.angle) # Angle in radians\n",
    "        y = self.radius*sin(self.angle)\n",
    " \n",
    "        self.goto(sun.xcor()+x,sun.ycor()+y)  #goto() – moves the turtle to an absolute position.\n",
    "                                              #xcor(),ycor() – stands for x and y coordinates."
   ]
  },
  {
   "cell_type": "code",
   "execution_count": null,
   "id": "ef1c716b-dbef-484d-b0c4-3abe2cd396d6",
   "metadata": {},
   "outputs": [],
   "source": [
    "# making plantes\n",
    "mercury = Planet(\"Mercury\",40, 'grey')\n",
    "venus = Planet(\"Venus\",80, 'orange')\n",
    "earth=Planet(\"Earth\",100,'blue')\n",
    "mars = Planet(\"Mars\",150, 'red')\n",
    "jupiter=Planet(\"Jupiter\",180, 'brown')\n",
    "saturn=Planet(\"Saturn\",230, 'pink')\n",
    "uranus=Planet(\"Uranus\",250, 'light blue')\n",
    "neptune=Planet(\"Neptune\",280, 'black')\n",
    " \n",
    "#adding planets to a list\n",
    "myList = [ mercury, venus,earth, mars,jupiter,saturn,uranus,neptune]\n",
    " \n",
    " \n",
    "while True:#while statement\n",
    "    screen.update()     #updating the GUI \n",
    "    for i in myList:\n",
    "        i.move()       #move() – to move the planets one by one in loop.\n",
    "    \n",
    "    # Increase the angle by 0.0x radians\n",
    "   \n",
    "    mercury.angle += 0.05\n",
    "    venus.angle += 0.03\n",
    "    earth.angle += 0.01\n",
    "    mars.angle += 0.007\n",
    "    jupiter.angle += 0.02\n",
    "    saturn.angle += 0.018\n",
    "    uranus.angle += 0.016\n",
    "    neptune.angle += 0.005"
   ]
  },
  {
   "cell_type": "code",
   "execution_count": null,
   "id": "13628cf8-d2ac-44aa-bc78-c9f81f892c3d",
   "metadata": {},
   "outputs": [],
   "source": []
  }
 ],
 "metadata": {
  "kernelspec": {
   "display_name": "Python 3 (ipykernel)",
   "language": "python",
   "name": "python3"
  },
  "language_info": {
   "codemirror_mode": {
    "name": "ipython",
    "version": 3
   },
   "file_extension": ".py",
   "mimetype": "text/x-python",
   "name": "python",
   "nbconvert_exporter": "python",
   "pygments_lexer": "ipython3",
   "version": "3.12.7"
  }
 },
 "nbformat": 4,
 "nbformat_minor": 5
}
